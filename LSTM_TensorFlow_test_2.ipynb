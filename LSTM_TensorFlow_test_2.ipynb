{
  "nbformat": 4,
  "nbformat_minor": 0,
  "metadata": {
    "colab": {
      "provenance": [],
      "include_colab_link": true
    },
    "kernelspec": {
      "name": "python3",
      "display_name": "Python 3"
    },
    "language_info": {
      "name": "python"
    }
  },
  "cells": [
    {
      "cell_type": "markdown",
      "metadata": {
        "id": "view-in-github",
        "colab_type": "text"
      },
      "source": [
        "<a href=\"https://colab.research.google.com/github/anumit-web/LSTM-Long-Short-Term-Memory-TensorFlow-tutorial-1/blob/main/LSTM_TensorFlow_test_2.ipynb\" target=\"_parent\"><img src=\"https://colab.research.google.com/assets/colab-badge.svg\" alt=\"Open In Colab\"/></a>"
      ]
    },
    {
      "cell_type": "markdown",
      "source": [
        "LSTM"
      ],
      "metadata": {
        "id": "u0YeLbKXWxR5"
      }
    },
    {
      "cell_type": "markdown",
      "source": [
        "TensorFlow LSTM Example: A Beginner’s Guide"
      ],
      "metadata": {
        "id": "bdz892ByWzwy"
      }
    },
    {
      "cell_type": "code",
      "source": [
        "print(\"Hello, World!\")"
      ],
      "metadata": {
        "id": "bwgkuE6zW85x"
      },
      "execution_count": null,
      "outputs": []
    }
  ]
}