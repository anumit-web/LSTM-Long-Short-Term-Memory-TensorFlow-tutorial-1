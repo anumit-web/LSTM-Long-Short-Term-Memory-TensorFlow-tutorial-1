{
  "nbformat": 4,
  "nbformat_minor": 0,
  "metadata": {
    "colab": {
      "provenance": [],
      "include_colab_link": true
    },
    "kernelspec": {
      "name": "python3",
      "display_name": "Python 3"
    },
    "language_info": {
      "name": "python"
    }
  },
  "cells": [
    {
      "cell_type": "markdown",
      "metadata": {
        "id": "view-in-github",
        "colab_type": "text"
      },
      "source": [
        "<a href=\"https://colab.research.google.com/github/anumit-web/LSTM-Long-Short-Term-Memory-TensorFlow-tutorial-1/blob/main/LSTM_TensorFlow_test_5.ipynb\" target=\"_parent\"><img src=\"https://colab.research.google.com/assets/colab-badge.svg\" alt=\"Open In Colab\"/></a>"
      ]
    },
    {
      "cell_type": "markdown",
      "source": [
        "## Yahoo finance API"
      ],
      "metadata": {
        "id": "4p6k4ZPYifaq"
      }
    },
    {
      "cell_type": "markdown",
      "source": [
        "Download market data from Yahoo! Finance's API"
      ],
      "metadata": {
        "id": "Cac4EoGcL5C1"
      }
    },
    {
      "cell_type": "markdown",
      "source": [
        "yfinance 0.2.41"
      ],
      "metadata": {
        "id": "Dj_a6zsULpVE"
      }
    },
    {
      "cell_type": "markdown",
      "source": [
        "https://pypi.org/project/yfinance/"
      ],
      "metadata": {
        "id": "kocWoXblLs9U"
      }
    },
    {
      "cell_type": "code",
      "source": [
        "import yfinance as yf\n",
        "\n",
        "msft = yf.Ticker(\"MSFT\")\n",
        "\n",
        "# get all stock info\n",
        "msft.info"
      ],
      "metadata": {
        "id": "DFNarWh0L7D4",
        "outputId": "53361746-bc4c-4400-f38e-94e3176e2129",
        "colab": {
          "base_uri": "https://localhost:8080/"
        }
      },
      "execution_count": 11,
      "outputs": [
        {
          "output_type": "execute_result",
          "data": {
            "text/plain": [
              "{'address1': 'One Microsoft Way',\n",
              " 'city': 'Redmond',\n",
              " 'state': 'WA',\n",
              " 'zip': '98052-6399',\n",
              " 'country': 'United States',\n",
              " 'phone': '425 882 8080',\n",
              " 'website': 'https://www.microsoft.com',\n",
              " 'industry': 'Software - Infrastructure',\n",
              " 'industryKey': 'software-infrastructure',\n",
              " 'industryDisp': 'Software - Infrastructure',\n",
              " 'sector': 'Technology',\n",
              " 'sectorKey': 'technology',\n",
              " 'sectorDisp': 'Technology',\n",
              " 'longBusinessSummary': 'Microsoft Corporation develops and supports software, services, devices and solutions worldwide. The Productivity and Business Processes segment offers office, exchange, SharePoint, Microsoft Teams, office 365 Security and Compliance, Microsoft viva, and Microsoft 365 copilot; and office consumer services, such as Microsoft 365 consumer subscriptions, Office licensed on-premises, and other office services. This segment also provides LinkedIn; and dynamics business solutions, including Dynamics 365, a set of intelligent, cloud-based applications across ERP, CRM, power apps, and power automate; and on-premises ERP and CRM applications. The Intelligent Cloud segment offers server products and cloud services, such as azure and other cloud services; SQL and windows server, visual studio, system center, and related client access licenses, as well as nuance and GitHub; and enterprise services including enterprise support services, industry solutions, and nuance professional services. The More Personal Computing segment offers Windows, including windows OEM licensing and other non-volume licensing of the Windows operating system; Windows commercial comprising volume licensing of the Windows operating system, windows cloud services, and other Windows commercial offerings; patent licensing; and windows Internet of Things; and devices, such as surface, HoloLens, and PC accessories. Additionally, this segment provides gaming, which includes Xbox hardware and content, and first- and third-party content; Xbox game pass and other subscriptions, cloud gaming, advertising, third-party disc royalties, and other cloud services; and search and news advertising, which includes Bing, Microsoft News and Edge, and third-party affiliates. The company sells its products through OEMs, distributors, and resellers; and directly through digital marketplaces, online, and retail stores. The company was founded in 1975 and is headquartered in Redmond, Washington.',\n",
              " 'fullTimeEmployees': 221000,\n",
              " 'companyOfficers': [{'maxAge': 1,\n",
              "   'name': 'Mr. Satya  Nadella',\n",
              "   'age': 56,\n",
              "   'title': 'Chairman & CEO',\n",
              "   'yearBorn': 1967,\n",
              "   'fiscalYear': 2023,\n",
              "   'totalPay': 9276400,\n",
              "   'exercisedValue': 0,\n",
              "   'unexercisedValue': 0},\n",
              "  {'maxAge': 1,\n",
              "   'name': 'Mr. Bradford L. Smith LCA',\n",
              "   'age': 64,\n",
              "   'title': 'President & Vice Chairman',\n",
              "   'yearBorn': 1959,\n",
              "   'fiscalYear': 2023,\n",
              "   'totalPay': 3591277,\n",
              "   'exercisedValue': 0,\n",
              "   'unexercisedValue': 0},\n",
              "  {'maxAge': 1,\n",
              "   'name': 'Ms. Amy E. Hood',\n",
              "   'age': 51,\n",
              "   'title': 'Executive VP & CFO',\n",
              "   'yearBorn': 1972,\n",
              "   'fiscalYear': 2023,\n",
              "   'totalPay': 3452196,\n",
              "   'exercisedValue': 0,\n",
              "   'unexercisedValue': 0},\n",
              "  {'maxAge': 1,\n",
              "   'name': 'Mr. Judson B. Althoff',\n",
              "   'age': 49,\n",
              "   'title': 'Executive VP & Chief Commercial Officer',\n",
              "   'yearBorn': 1974,\n",
              "   'fiscalYear': 2023,\n",
              "   'totalPay': 3355797,\n",
              "   'exercisedValue': 0,\n",
              "   'unexercisedValue': 0},\n",
              "  {'maxAge': 1,\n",
              "   'name': 'Mr. Christopher David Young',\n",
              "   'age': 51,\n",
              "   'title': 'Executive Vice President of Business Development, Strategy & Ventures',\n",
              "   'yearBorn': 1972,\n",
              "   'fiscalYear': 2023,\n",
              "   'totalPay': 2460507,\n",
              "   'exercisedValue': 0,\n",
              "   'unexercisedValue': 0},\n",
              "  {'maxAge': 1,\n",
              "   'name': 'Ms. Alice L. Jolla',\n",
              "   'age': 56,\n",
              "   'title': 'Corporate VP & Chief Accounting Officer',\n",
              "   'yearBorn': 1967,\n",
              "   'fiscalYear': 2023,\n",
              "   'exercisedValue': 0,\n",
              "   'unexercisedValue': 0},\n",
              "  {'maxAge': 1,\n",
              "   'name': 'Mr. James Kevin Scott',\n",
              "   'age': 51,\n",
              "   'title': 'Executive VP of AI & CTO',\n",
              "   'yearBorn': 1972,\n",
              "   'fiscalYear': 2023,\n",
              "   'exercisedValue': 0,\n",
              "   'unexercisedValue': 0},\n",
              "  {'maxAge': 1,\n",
              "   'name': 'Brett  Iversen',\n",
              "   'title': 'Vice President of Investor Relations',\n",
              "   'fiscalYear': 2023,\n",
              "   'exercisedValue': 0,\n",
              "   'unexercisedValue': 0},\n",
              "  {'maxAge': 1,\n",
              "   'name': 'Mr. Hossein  Nowbar',\n",
              "   'title': 'Chief Legal Officer',\n",
              "   'fiscalYear': 2023,\n",
              "   'exercisedValue': 0,\n",
              "   'unexercisedValue': 0},\n",
              "  {'maxAge': 1,\n",
              "   'name': 'Mr. Frank X. Shaw',\n",
              "   'title': 'Chief Communications Officer',\n",
              "   'fiscalYear': 2023,\n",
              "   'exercisedValue': 0,\n",
              "   'unexercisedValue': 0}],\n",
              " 'auditRisk': 3,\n",
              " 'boardRisk': 4,\n",
              " 'compensationRisk': 2,\n",
              " 'shareHolderRightsRisk': 2,\n",
              " 'overallRisk': 1,\n",
              " 'governanceEpochDate': 1719792000,\n",
              " 'compensationAsOfEpochDate': 1703980800,\n",
              " 'irWebsite': 'http://www.microsoft.com/investor/default.aspx',\n",
              " 'maxAge': 86400,\n",
              " 'priceHint': 2,\n",
              " 'previousClose': 418.4,\n",
              " 'open': 418.19,\n",
              " 'dayLow': 417.31,\n",
              " 'dayHigh': 428.91,\n",
              " 'regularMarketPreviousClose': 418.4,\n",
              " 'regularMarketOpen': 418.19,\n",
              " 'regularMarketDayLow': 417.31,\n",
              " 'regularMarketDayHigh': 428.91,\n",
              " 'dividendRate': 3.0,\n",
              " 'dividendYield': 0.0070999996,\n",
              " 'exDividendDate': 1723680000,\n",
              " 'payoutRatio': 0.24780001,\n",
              " 'fiveYearAvgDividendYield': 0.92,\n",
              " 'beta': 0.894,\n",
              " 'trailingPE': 36.88378,\n",
              " 'forwardPE': 31.975187,\n",
              " 'volume': 23007829,\n",
              " 'regularMarketVolume': 23007829,\n",
              " 'averageVolume': 18617125,\n",
              " 'averageVolume10days': 20435030,\n",
              " 'averageDailyVolume10Day': 20435030,\n",
              " 'bid': 425.42,\n",
              " 'ask': 425.19,\n",
              " 'bidSize': 100,\n",
              " 'askSize': 100,\n",
              " 'marketCap': 3160738365440,\n",
              " 'fiftyTwoWeekLow': 309.45,\n",
              " 'fiftyTwoWeekHigh': 468.35,\n",
              " 'priceToSalesTrailing12Months': 13.3598995,\n",
              " 'fiftyDayAverage': 439.0718,\n",
              " 'twoHundredDayAverage': 401.6136,\n",
              " 'trailingAnnualDividendRate': 2.93,\n",
              " 'trailingAnnualDividendYield': 0.007002868,\n",
              " 'currency': 'USD',\n",
              " 'enterpriseValue': 3186952765440,\n",
              " 'profitMargins': 0.36426997,\n",
              " 'floatShares': 7422049212,\n",
              " 'sharesOutstanding': 7432309760,\n",
              " 'sharesShort': 61931266,\n",
              " 'sharesShortPriorMonth': 62396959,\n",
              " 'sharesShortPreviousMonthDate': 1718323200,\n",
              " 'dateShortInterest': 1721001600,\n",
              " 'sharesPercentSharesOut': 0.0083,\n",
              " 'heldPercentInsiders': 0.0005,\n",
              " 'heldPercentInstitutions': 0.73593,\n",
              " 'shortRatio': 3.42,\n",
              " 'shortPercentOfFloat': 0.0083,\n",
              " 'impliedSharesOutstanding': 7617189888,\n",
              " 'bookValue': 34.058,\n",
              " 'priceToBook': 12.486641,\n",
              " 'lastFiscalYearEnd': 1688083200,\n",
              " 'nextFiscalYearEnd': 1719705600,\n",
              " 'mostRecentQuarter': 1711843200,\n",
              " 'earningsQuarterlyGrowth': 0.199,\n",
              " 'netIncomeToCommon': 86181003264,\n",
              " 'trailingEps': 11.53,\n",
              " 'forwardEps': 13.3,\n",
              " 'pegRatio': 2.19,\n",
              " 'lastSplitFactor': '2:1',\n",
              " 'lastSplitDate': 1045526400,\n",
              " 'enterpriseToRevenue': 13.471,\n",
              " 'enterpriseToEbitda': 25.297,\n",
              " '52WeekChange': 0.26598597,\n",
              " 'SandP52WeekChange': 0.18961596,\n",
              " 'lastDividendValue': 0.75,\n",
              " 'lastDividendDate': 1715731200,\n",
              " 'exchange': 'NMS',\n",
              " 'quoteType': 'EQUITY',\n",
              " 'symbol': 'MSFT',\n",
              " 'underlyingSymbol': 'MSFT',\n",
              " 'shortName': 'Microsoft Corporation',\n",
              " 'longName': 'Microsoft Corporation',\n",
              " 'firstTradeDateEpochUtc': 511108200,\n",
              " 'timeZoneFullName': 'America/New_York',\n",
              " 'timeZoneShortName': 'EDT',\n",
              " 'uuid': 'b004b3ec-de24-385e-b2c1-923f10d3fb62',\n",
              " 'messageBoardId': 'finmb_21835',\n",
              " 'gmtOffSetMilliseconds': -14400000,\n",
              " 'currentPrice': 425.27,\n",
              " 'targetHighPrice': 600.0,\n",
              " 'targetLowPrice': 436.0,\n",
              " 'targetMeanPrice': 496.04,\n",
              " 'targetMedianPrice': 497.5,\n",
              " 'recommendationMean': 1.7,\n",
              " 'recommendationKey': 'buy',\n",
              " 'numberOfAnalystOpinions': 46,\n",
              " 'totalCash': 80013000704,\n",
              " 'totalCashPerShare': 10.766,\n",
              " 'ebitda': 125981999104,\n",
              " 'totalDebt': 106228998144,\n",
              " 'quickRatio': 1.132,\n",
              " 'currentRatio': 1.242,\n",
              " 'totalRevenue': 236583993344,\n",
              " 'debtToEquity': 41.963,\n",
              " 'revenuePerShare': 31.834,\n",
              " 'returnOnAssets': 0.1541,\n",
              " 'returnOnEquity': 0.38487998,\n",
              " 'freeCashflow': 61997998080,\n",
              " 'operatingCashflow': 110122999808,\n",
              " 'earningsGrowth': 0.2,\n",
              " 'revenueGrowth': 0.17,\n",
              " 'grossMargins': 0.69894,\n",
              " 'ebitdaMargins': 0.5325,\n",
              " 'operatingMargins': 0.44588003,\n",
              " 'financialCurrency': 'USD',\n",
              " 'trailingPegRatio': 2.0977}"
            ]
          },
          "metadata": {},
          "execution_count": 11
        }
      ]
    },
    {
      "cell_type": "code",
      "source": [
        "# get historical market data\n",
        "hist = msft.history(period=\"1mo\")\n",
        "msft.history_metadata\n"
      ],
      "metadata": {
        "id": "fSvL0uuvMaIm",
        "outputId": "0bbef6a8-7163-47c0-e6d0-923c24f899fd",
        "colab": {
          "base_uri": "https://localhost:8080/"
        }
      },
      "execution_count": 12,
      "outputs": [
        {
          "output_type": "execute_result",
          "data": {
            "text/plain": [
              "{'currency': 'USD',\n",
              " 'symbol': 'MSFT',\n",
              " 'exchangeName': 'NMS',\n",
              " 'fullExchangeName': 'NasdaqGS',\n",
              " 'instrumentType': 'EQUITY',\n",
              " 'firstTradeDate': 511108200,\n",
              " 'regularMarketTime': 1722024001,\n",
              " 'hasPrePostMarketData': True,\n",
              " 'gmtoffset': -14400,\n",
              " 'timezone': 'EDT',\n",
              " 'exchangeTimezoneName': 'America/New_York',\n",
              " 'regularMarketPrice': 425.27,\n",
              " 'fiftyTwoWeekHigh': 428.91,\n",
              " 'fiftyTwoWeekLow': 417.31,\n",
              " 'regularMarketDayHigh': 428.91,\n",
              " 'regularMarketDayLow': 417.31,\n",
              " 'regularMarketVolume': 23007829,\n",
              " 'chartPreviousClose': 452.16,\n",
              " 'priceHint': 2,\n",
              " 'currentTradingPeriod': {'pre': {'timezone': 'EDT',\n",
              "   'end': 1722000600,\n",
              "   'start': 1721980800,\n",
              "   'gmtoffset': -14400},\n",
              "  'regular': {'timezone': 'EDT',\n",
              "   'end': 1722024000,\n",
              "   'start': 1722000600,\n",
              "   'gmtoffset': -14400},\n",
              "  'post': {'timezone': 'EDT',\n",
              "   'end': 1722038400,\n",
              "   'start': 1722024000,\n",
              "   'gmtoffset': -14400}},\n",
              " 'dataGranularity': '1d',\n",
              " 'range': '1mo',\n",
              " 'validRanges': ['1d',\n",
              "  '5d',\n",
              "  '1mo',\n",
              "  '3mo',\n",
              "  '6mo',\n",
              "  '1y',\n",
              "  '2y',\n",
              "  '5y',\n",
              "  '10y',\n",
              "  'ytd',\n",
              "  'max']}"
            ]
          },
          "metadata": {},
          "execution_count": 12
        }
      ]
    },
    {
      "cell_type": "code",
      "source": [
        "msft.actions\n",
        "msft.dividends\n",
        "msft.splits\n",
        "msft.capital_gains  # only for mutual funds & etfs"
      ],
      "metadata": {
        "id": "bhS9X-PFM1fR",
        "outputId": "106bd9ac-b235-4023-b6f8-5b02b4e675aa",
        "colab": {
          "base_uri": "https://localhost:8080/"
        }
      },
      "execution_count": 13,
      "outputs": [
        {
          "output_type": "execute_result",
          "data": {
            "text/plain": [
              "Series([], dtype: object)"
            ]
          },
          "metadata": {},
          "execution_count": 13
        }
      ]
    },
    {
      "cell_type": "code",
      "source": [
        "# show share count\n",
        "msft.get_shares_full(start=\"2022-01-01\", end=None)"
      ],
      "metadata": {
        "id": "x-T5Q-RaM_qd",
        "outputId": "6e55bfaf-d657-4915-fdc4-f5b82f12bf21",
        "colab": {
          "base_uri": "https://localhost:8080/"
        }
      },
      "execution_count": 14,
      "outputs": [
        {
          "output_type": "execute_result",
          "data": {
            "text/plain": [
              "2022-01-27 00:00:00-05:00    7496869888\n",
              "2022-02-04 00:00:00-05:00    7800719872\n",
              "2022-02-05 00:00:00-05:00    7496869888\n",
              "2022-02-11 00:00:00-05:00    7496869888\n",
              "2022-03-04 00:00:00-05:00    7605040128\n",
              "                                ...    \n",
              "2024-07-19 00:00:00-04:00    7487739904\n",
              "2024-07-20 00:00:00-04:00    7432309760\n",
              "2024-07-24 00:00:00-04:00    7432309760\n",
              "2024-07-25 00:00:00-04:00    7617189888\n",
              "2024-07-26 00:00:00-04:00    7432309760\n",
              "Length: 219, dtype: int64"
            ]
          },
          "metadata": {},
          "execution_count": 14
        }
      ]
    },
    {
      "cell_type": "code",
      "source": [
        "import yfinance as yf\n",
        "\n",
        "msft = yf.Ticker(\"MSFT\")\n",
        "\n",
        "# get all stock info\n",
        "msft.info\n",
        "\n",
        "# get historical market data\n",
        "hist = msft.history(period=\"1mo\")\n",
        "\n",
        "# show meta information about the history (requires history() to be called first)\n",
        "msft.history_metadata\n",
        "\n",
        "# show actions (dividends, splits, capital gains)\n",
        "msft.actions\n",
        "msft.dividends\n",
        "msft.splits\n",
        "msft.capital_gains  # only for mutual funds & etfs\n",
        "\n",
        "# show share count\n",
        "msft.get_shares_full(start=\"2022-01-01\", end=None)\n",
        "\n",
        "# show financials:\n",
        "# - income statement\n",
        "msft.income_stmt\n",
        "msft.quarterly_income_stmt\n",
        "# - balance sheet\n",
        "msft.balance_sheet\n",
        "msft.quarterly_balance_sheet\n",
        "# - cash flow statement\n",
        "msft.cashflow\n",
        "msft.quarterly_cashflow\n",
        "# see `Ticker.get_income_stmt()` for more options\n",
        "\n",
        "# show holders\n",
        "msft.major_holders\n",
        "msft.institutional_holders\n",
        "msft.mutualfund_holders\n",
        "msft.insider_transactions\n",
        "msft.insider_purchases\n",
        "msft.insider_roster_holders\n",
        "\n",
        "msft.sustainability\n",
        "\n",
        "# show recommendations\n",
        "msft.recommendations\n",
        "msft.recommendations_summary\n",
        "msft.upgrades_downgrades\n",
        "\n",
        "# Show future and historic earnings dates, returns at most next 4 quarters and last 8 quarters by default.\n",
        "# Note: If more are needed use msft.get_earnings_dates(limit=XX) with increased limit argument.\n",
        "msft.earnings_dates\n",
        "\n",
        "# show ISIN code - *experimental*\n",
        "# ISIN = International Securities Identification Number\n",
        "msft.isin\n",
        "\n",
        "# show options expirations\n",
        "msft.options\n",
        "\n",
        "# show news\n",
        "msft.news\n",
        "\n",
        "# get option chain for specific expiration\n",
        "opt = msft.option_chain('2024-08-02')\n",
        "# data available via: opt.calls, opt.puts"
      ],
      "metadata": {
        "id": "MEQfPLAyQlxx"
      },
      "execution_count": 15,
      "outputs": []
    }
  ]
}