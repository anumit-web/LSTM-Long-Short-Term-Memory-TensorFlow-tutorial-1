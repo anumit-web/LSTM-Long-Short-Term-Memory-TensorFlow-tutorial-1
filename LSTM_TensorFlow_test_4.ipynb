{
  "nbformat": 4,
  "nbformat_minor": 0,
  "metadata": {
    "colab": {
      "provenance": [],
      "include_colab_link": true
    },
    "kernelspec": {
      "name": "python3",
      "display_name": "Python 3"
    },
    "language_info": {
      "name": "python"
    }
  },
  "cells": [
    {
      "cell_type": "markdown",
      "metadata": {
        "id": "view-in-github",
        "colab_type": "text"
      },
      "source": [
        "<a href=\"https://colab.research.google.com/github/anumit-web/LSTM-Long-Short-Term-Memory-TensorFlow-tutorial-1/blob/main/LSTM_TensorFlow_test_4.ipynb\" target=\"_parent\"><img src=\"https://colab.research.google.com/assets/colab-badge.svg\" alt=\"Open In Colab\"/></a>"
      ]
    },
    {
      "cell_type": "markdown",
      "source": [
        "Stock + LSTM"
      ],
      "metadata": {
        "id": "oYpqf-e976z3"
      }
    },
    {
      "cell_type": "markdown",
      "source": [
        "You will learn -\n",
        "\n",
        "How to load stock market data from the YAHOO\n",
        "Finance website using yfinance.\n",
        "\n",
        "How to explore and visualize time-series data using Pandas, Matplotlib, and Seaborn.\n",
        "\n",
        "How to measure the correlation between stocks.\n",
        "\n",
        "How to measure the risk of investing in a particular stock."
      ],
      "metadata": {
        "id": "0846X3_98Kpa"
      }
    }
  ]
}