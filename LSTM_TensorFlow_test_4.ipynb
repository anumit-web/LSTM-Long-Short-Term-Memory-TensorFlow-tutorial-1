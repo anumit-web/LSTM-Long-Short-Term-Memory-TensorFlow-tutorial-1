{
  "nbformat": 4,
  "nbformat_minor": 0,
  "metadata": {
    "colab": {
      "provenance": [],
      "include_colab_link": true
    },
    "kernelspec": {
      "name": "python3",
      "display_name": "Python 3"
    },
    "language_info": {
      "name": "python"
    }
  },
  "cells": [
    {
      "cell_type": "markdown",
      "metadata": {
        "id": "view-in-github",
        "colab_type": "text"
      },
      "source": [
        "<a href=\"https://colab.research.google.com/github/anumit-web/LSTM-Long-Short-Term-Memory-TensorFlow-tutorial-1/blob/main/LSTM_TensorFlow_test_4.ipynb\" target=\"_parent\"><img src=\"https://colab.research.google.com/assets/colab-badge.svg\" alt=\"Open In Colab\"/></a>"
      ]
    },
    {
      "cell_type": "markdown",
      "source": [
        "Stock + LSTM"
      ],
      "metadata": {
        "id": "oYpqf-e976z3"
      }
    },
    {
      "cell_type": "markdown",
      "source": [
        "You will learn -\n",
        "\n",
        "How to load stock market data from the YAHOO\n",
        "Finance website using yfinance.\n",
        "\n",
        "How to explore and visualize time-series data using Pandas, Matplotlib, and Seaborn.\n",
        "\n",
        "How to measure the correlation between stocks.\n",
        "\n",
        "How to measure the risk of investing in a particular stock."
      ],
      "metadata": {
        "id": "0846X3_98Kpa"
      }
    },
    {
      "cell_type": "code",
      "source": [
        "import pandas as pd\n",
        "import numpy as np\n",
        "\n",
        "import matplotlib.pyplot as plt\n",
        "import seaborn as sns\n",
        "sns.set_style('whitegrid')\n",
        "plt.style.use(\"fivethirtyeight\")\n",
        "%matplotlib inline\n",
        "\n",
        "# For reading stock data from yahoo\n",
        "from pandas_datareader.data import DataReader\n",
        "import yfinance as yf\n",
        "from pandas_datareader import data as pdr\n",
        "\n",
        "yf.pdr_override()\n",
        "\n",
        "# For time stamps\n",
        "from datetime import datetime\n",
        "\n",
        "\n",
        "# The tech stocks we'll use for this analysis\n",
        "tech_list = ['AAPL', 'GOOG', 'MSFT', 'AMZN']\n",
        "\n",
        "# Set up End and Start times for data grab\n",
        "tech_list = ['AAPL', 'GOOG', 'MSFT', 'AMZN']\n",
        "\n",
        "end = datetime.now()\n",
        "start = datetime(end.year - 1, end.month, end.day)\n",
        "\n",
        "for stock in tech_list:\n",
        "    globals()[stock] = yf.download(stock, start, end)\n",
        "\n",
        "\n",
        "company_list = [AAPL, GOOG, MSFT, AMZN]\n",
        "company_name = [\"APPLE\", \"GOOGLE\", \"MICROSOFT\", \"AMAZON\"]\n",
        "\n",
        "for company, com_name in zip(company_list, company_name):\n",
        "    company[\"company_name\"] = com_name\n",
        "\n",
        "df = pd.concat(company_list, axis=0)\n",
        "df.tail(10)"
      ],
      "metadata": {
        "id": "Wuh95_iA9Apo"
      },
      "execution_count": null,
      "outputs": []
    }
  ]
}